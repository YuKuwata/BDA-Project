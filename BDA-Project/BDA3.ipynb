{
 "cells": [
  {
   "cell_type": "markdown",
   "metadata": {
    "id": "MX-ztngL3sf4"
   },
   "source": [
    "# BDA3 Group Project"
   ]
  },
  {
   "cell_type": "markdown",
   "metadata": {
    "id": "A6R7_001vDzU"
   },
   "source": [
    "### Introduction\n",
    "Air quality is always critical to citizens and it is obviously serious problem for developing countries. \n",
    "\n",
    "This project aims to analyze the PM2.5 in Beijing, make some predictions and give suggestions for dealing with this air pollution problem.\n",
    "\n",
    "The dataset this problem use is available at UCI Machine Learning Repository. \n",
    "\n",
    "Note that this program is implemented on Colab. To run the code, you need to download the [PRSA_data_2010.1.1-2014.12.31.csv](https://archive.ics.uci.edu/ml/machine-learning-databases/00381/), name is as \"PRSA_data.csv\" and upload it into your own google drive."
   ]
  },
  {
   "cell_type": "markdown",
   "metadata": {
    "id": "gM8rAa5k3xyD"
   },
   "source": [
    "## Environment Input"
   ]
  },
  {
   "cell_type": "code",
   "execution_count": 123,
   "metadata": {
    "colab": {
     "base_uri": "https://localhost:8080/"
    },
    "id": "Lunmgy1UvmHz",
    "outputId": "fe29f4ed-382e-4d9a-9085-c514c707e8f4"
   },
   "outputs": [
    {
     "name": "stdout",
     "output_type": "stream",
     "text": [
      "Drive already mounted at /PRSA_data.csv; to attempt to forcibly remount, call drive.mount(\"/PRSA_data.csv\", force_remount=True).\n"
     ]
    }
   ],
   "source": [
    "from google.colab import drive\n",
    "drive.mount('/PRSA_data.csv')"
   ]
  },
  {
   "cell_type": "code",
   "execution_count": 124,
   "metadata": {
    "id": "yAIV-Z-smdKt"
   },
   "outputs": [],
   "source": [
    "import pandas as pd\n",
    "import numpy as np\n",
    "import matplotlib.pyplot as plt\n",
    "import scipy.stats as ss\n",
    "import pystan\n",
    "import datetime\n",
    "import seaborn as sns\n",
    "import warnings"
   ]
  },
  {
   "cell_type": "markdown",
   "metadata": {
    "id": "5TSRyE2U38BS"
   },
   "source": [
    "## Dataset Introduction and Preprocessing"
   ]
  },
  {
   "cell_type": "markdown",
   "metadata": {
    "id": "IMgb4yJtgW2x"
   },
   "source": [
    "The dataset consists of 43824 instances. For each instance, it has 13 columns.\n",
    "\n",
    "The explanation of each column is:\n",
    "\n",
    "No: The ID of this instance, i.e. the row number\n",
    "\n",
    "year / month / day / hour: The year / month / day / hour of this instance\n",
    "\n",
    "pm2.5: The measured PM2.5 data during this specific hour\n",
    "\n",
    "DEWP: Dew Point\n",
    "\n",
    "TEMP: Temperate\n",
    "\n",
    "PRES: Pressure\n",
    "\n",
    "cbwd: Combined wind direction\n",
    "\n",
    "Iws: Cumulated wind speed (m/s)\n",
    "\n",
    "Is: Cumulated hours of snow\n",
    "\n",
    "Ir: Cumulated hours of rain\n",
    "\n",
    "\n",
    "\n",
    "The following presents the first five instances of this dataset to give you a better understanding."
   ]
  },
  {
   "cell_type": "code",
   "execution_count": 125,
   "metadata": {
    "colab": {
     "base_uri": "https://localhost:8080/",
     "height": 194
    },
    "id": "2hm0cve4ptLX",
    "outputId": "19db512e-2133-4605-f5e5-03a259562d7c"
   },
   "outputs": [
    {
     "data": {
      "text/html": [
       "<div>\n",
       "<style scoped>\n",
       "    .dataframe tbody tr th:only-of-type {\n",
       "        vertical-align: middle;\n",
       "    }\n",
       "\n",
       "    .dataframe tbody tr th {\n",
       "        vertical-align: top;\n",
       "    }\n",
       "\n",
       "    .dataframe thead th {\n",
       "        text-align: right;\n",
       "    }\n",
       "</style>\n",
       "<table border=\"1\" class=\"dataframe\">\n",
       "  <thead>\n",
       "    <tr style=\"text-align: right;\">\n",
       "      <th></th>\n",
       "      <th>No</th>\n",
       "      <th>year</th>\n",
       "      <th>month</th>\n",
       "      <th>day</th>\n",
       "      <th>hour</th>\n",
       "      <th>pm2.5</th>\n",
       "      <th>DEWP</th>\n",
       "      <th>TEMP</th>\n",
       "      <th>PRES</th>\n",
       "      <th>cbwd</th>\n",
       "      <th>Iws</th>\n",
       "      <th>Is</th>\n",
       "      <th>Ir</th>\n",
       "    </tr>\n",
       "  </thead>\n",
       "  <tbody>\n",
       "    <tr>\n",
       "      <th>0</th>\n",
       "      <td>1</td>\n",
       "      <td>2010</td>\n",
       "      <td>1</td>\n",
       "      <td>1</td>\n",
       "      <td>0</td>\n",
       "      <td>NaN</td>\n",
       "      <td>-21</td>\n",
       "      <td>-11.0</td>\n",
       "      <td>1021.0</td>\n",
       "      <td>NW</td>\n",
       "      <td>1.79</td>\n",
       "      <td>0</td>\n",
       "      <td>0</td>\n",
       "    </tr>\n",
       "    <tr>\n",
       "      <th>1</th>\n",
       "      <td>2</td>\n",
       "      <td>2010</td>\n",
       "      <td>1</td>\n",
       "      <td>1</td>\n",
       "      <td>1</td>\n",
       "      <td>NaN</td>\n",
       "      <td>-21</td>\n",
       "      <td>-12.0</td>\n",
       "      <td>1020.0</td>\n",
       "      <td>NW</td>\n",
       "      <td>4.92</td>\n",
       "      <td>0</td>\n",
       "      <td>0</td>\n",
       "    </tr>\n",
       "    <tr>\n",
       "      <th>2</th>\n",
       "      <td>3</td>\n",
       "      <td>2010</td>\n",
       "      <td>1</td>\n",
       "      <td>1</td>\n",
       "      <td>2</td>\n",
       "      <td>NaN</td>\n",
       "      <td>-21</td>\n",
       "      <td>-11.0</td>\n",
       "      <td>1019.0</td>\n",
       "      <td>NW</td>\n",
       "      <td>6.71</td>\n",
       "      <td>0</td>\n",
       "      <td>0</td>\n",
       "    </tr>\n",
       "    <tr>\n",
       "      <th>3</th>\n",
       "      <td>4</td>\n",
       "      <td>2010</td>\n",
       "      <td>1</td>\n",
       "      <td>1</td>\n",
       "      <td>3</td>\n",
       "      <td>NaN</td>\n",
       "      <td>-21</td>\n",
       "      <td>-14.0</td>\n",
       "      <td>1019.0</td>\n",
       "      <td>NW</td>\n",
       "      <td>9.84</td>\n",
       "      <td>0</td>\n",
       "      <td>0</td>\n",
       "    </tr>\n",
       "    <tr>\n",
       "      <th>4</th>\n",
       "      <td>5</td>\n",
       "      <td>2010</td>\n",
       "      <td>1</td>\n",
       "      <td>1</td>\n",
       "      <td>4</td>\n",
       "      <td>NaN</td>\n",
       "      <td>-20</td>\n",
       "      <td>-12.0</td>\n",
       "      <td>1018.0</td>\n",
       "      <td>NW</td>\n",
       "      <td>12.97</td>\n",
       "      <td>0</td>\n",
       "      <td>0</td>\n",
       "    </tr>\n",
       "  </tbody>\n",
       "</table>\n",
       "</div>"
      ],
      "text/plain": [
       "   No  year  month  day  hour  pm2.5  DEWP  TEMP    PRES cbwd    Iws  Is  Ir\n",
       "0   1  2010      1    1     0    NaN   -21 -11.0  1021.0   NW   1.79   0   0\n",
       "1   2  2010      1    1     1    NaN   -21 -12.0  1020.0   NW   4.92   0   0\n",
       "2   3  2010      1    1     2    NaN   -21 -11.0  1019.0   NW   6.71   0   0\n",
       "3   4  2010      1    1     3    NaN   -21 -14.0  1019.0   NW   9.84   0   0\n",
       "4   5  2010      1    1     4    NaN   -20 -12.0  1018.0   NW  12.97   0   0"
      ]
     },
     "execution_count": 125,
     "metadata": {
      "tags": []
     },
     "output_type": "execute_result"
    }
   ],
   "source": [
    "df = pd.read_csv(\"PRSA_data.csv\")\n",
    "\n",
    "df.head()"
   ]
  },
  {
   "cell_type": "code",
   "execution_count": 126,
   "metadata": {
    "colab": {
     "base_uri": "https://localhost:8080/"
    },
    "id": "O1Sx7rTapzDE",
    "outputId": "52ea7fc6-a955-4393-a99c-05a292e0a2bd"
   },
   "outputs": [
    {
     "data": {
      "text/plain": [
       "(43824, 13)"
      ]
     },
     "execution_count": 126,
     "metadata": {
      "tags": []
     },
     "output_type": "execute_result"
    }
   ],
   "source": [
    "df.shape"
   ]
  },
  {
   "cell_type": "markdown",
   "metadata": {
    "id": "REux7eHqt344"
   },
   "source": [
    "As we can read from the instances given above, there are some value missing for our target variable, i.e PM2.5. We checked the dataset and found that there are 2067 instances in total missing this value. Compared to number of instances we have, this is not a big number. Thus, we simply drop these instances to get a valid dataset."
   ]
  },
  {
   "cell_type": "code",
   "execution_count": 127,
   "metadata": {
    "id": "PUDMzIVktOkm"
   },
   "outputs": [],
   "source": [
    "df=df.dropna()"
   ]
  },
  {
   "cell_type": "code",
   "execution_count": 128,
   "metadata": {
    "colab": {
     "base_uri": "https://localhost:8080/"
    },
    "id": "_tySnQK2E0K6",
    "outputId": "a4cc9b42-5bb2-458e-84f4-fc5271227223"
   },
   "outputs": [
    {
     "data": {
      "text/plain": [
       "(41757, 13)"
      ]
     },
     "execution_count": 128,
     "metadata": {
      "tags": []
     },
     "output_type": "execute_result"
    }
   ],
   "source": [
    "df.shape"
   ]
  },
  {
   "cell_type": "markdown",
   "metadata": {
    "id": "PZLrDiRqu71o"
   },
   "source": [
    "Visualisation may help us to generate some insights of the dataset. Below is a plot of the pm2.5 distribution. In these five years, the PM2.5 in Beijing is acceptable in most cases, but there are also many terrible situations happened. "
   ]
  },
  {
   "cell_type": "code",
   "execution_count": 129,
   "metadata": {
    "colab": {
     "base_uri": "https://localhost:8080/",
     "height": 279
    },
    "id": "F4uIf5VrtUP6",
    "outputId": "aabb09c9-5f70-43a1-842e-202831fb4bac"
   },
   "outputs": [
    {
     "data": {
      "image/png": "[encoded data removed]",
      "text/plain": [
       "<Figure size 432x288 with 1 Axes>"
      ]
     },
     "metadata": {
      "needs_background": "light",
      "tags": []
     },
     "output_type": "display_data"
    }
   ],
   "source": [
    "plt.hist(df['pm2.5'],bins=500)\n",
    "plt.xlabel(\"PM2.5\")\n",
    "plt.ylabel(\"Density\")\n",
    "plt.show()"
   ]
  },
  {
   "cell_type": "markdown",
   "metadata": {
    "id": "MpPp4gZtwcC2"
   },
   "source": [
    "This project would like to examine whether month has an impact on the PM2.5 value. The reason why month is interested other than other variables is month also indicate other information, like the temperature, the snow and rain. Empirically, we thought that the year may also have a relatively great infuence on the PM2.5 because the government might introduce policies to improve the air quality. To figure this out, we also plot the PM2.5 distribution in different years. The diagram below shows that the PM2.5 in different years seems to follow similar distribution."
   ]
  },
  {
   "cell_type": "code",
   "execution_count": 130,
   "metadata": {
    "colab": {
     "base_uri": "https://localhost:8080/",
     "height": 493
    },
    "id": "4e6wzVG8wJlb",
    "outputId": "d49aea5f-f9d2-4d8a-ad9b-a67161e690a0"
   },
   "outputs": [
    {
     "name": "stderr",
     "output_type": "stream",
     "text": [
      "/usr/local/lib/python3.6/dist-packages/seaborn/distributions.py:2551: FutureWarning: `distplot` is a deprecated function and will be removed in a future version. Please adapt your code to use either `displot` (a figure-level function with similar flexibility) or `kdeplot` (an axes-level function for kernel density plots).\n",
      "  warnings.warn(msg, FutureWarning)\n",
      "/usr/local/lib/python3.6/dist-packages/seaborn/distributions.py:2551: FutureWarning: `distplot` is a deprecated function and will be removed in a future version. Please adapt your code to use either `displot` (a figure-level function with similar flexibility) or `kdeplot` (an axes-level function for kernel density plots).\n",
      "  warnings.warn(msg, FutureWarning)\n",
      "/usr/local/lib/python3.6/dist-packages/seaborn/distributions.py:2551: FutureWarning: `distplot` is a deprecated function and will be removed in a future version. Please adapt your code to use either `displot` (a figure-level function with similar flexibility) or `kdeplot` (an axes-level function for kernel density plots).\n",
      "  warnings.warn(msg, FutureWarning)\n",
      "/usr/local/lib/python3.6/dist-packages/seaborn/distributions.py:2551: FutureWarning: `distplot` is a deprecated function and will be removed in a future version. Please adapt your code to use either `displot` (a figure-level function with similar flexibility) or `kdeplot` (an axes-level function for kernel density plots).\n",
      "  warnings.warn(msg, FutureWarning)\n",
      "/usr/local/lib/python3.6/dist-packages/seaborn/distributions.py:2551: FutureWarning: `distplot` is a deprecated function and will be removed in a future version. Please adapt your code to use either `displot` (a figure-level function with similar flexibility) or `kdeplot` (an axes-level function for kernel density plots).\n",
      "  warnings.warn(msg, FutureWarning)\n"
     ]
    },
    {
     "data": {
      "image/png": "[encoded data removed]",
      "text/plain": [
       "<Figure size 432x288 with 1 Axes>"
      ]
     },
     "metadata": {
      "needs_background": "light",
      "tags": []
     },
     "output_type": "display_data"
    }
   ],
   "source": [
    "for year in [2010,2011,2012,2013,2014]:\n",
    "  y=df.loc[df['year']==year,'pm2.5'].tolist()\n",
    "  sns.distplot(y, label = year, hist=False, kde=True,  bins=int(100))\n",
    "\n",
    "plt.title(\"PM2.5 in 2010-2014\")\n",
    "plt.xlabel(\"PM2.5\")\n",
    "plt.ylabel(\"Density\")\n",
    "plt.legend()\n",
    "plt.show()"
   ]
  },
  {
   "cell_type": "markdown",
   "metadata": {
    "id": "VPWj654mqs4W"
   },
   "source": [
    "After examining the year factor, we would like to also check if the hours in one day cause different PM2.5 distribution. We plot the distribution of PM2.5 in one day in the following figure. For a better visualisation, we use step = 4, i.e. only 0, 4, 8, 12, 16, 20 o'clock is ploted. As we can see, the distributions seem to be similar regardless of some value appears more frequenly in some hours. (So our guess that \n",
    "\n",
    "We would like to choose 8 o'clock for our project. One reason why we choose 8 o'clock is that people need to go outside and work during that hour. Therefore, PM2.5 data during this hour is more meaningful and important for health than other hours. The other reason is that, 8 o'clock has a wider distribution compared to other day time, such as 12 o'clock and 16 o'clock, which means high PM2.5 data appears more frequently at 8 o'clock."
   ]
  },
  {
   "cell_type": "code",
   "execution_count": 131,
   "metadata": {
    "colab": {
     "base_uri": "https://localhost:8080/",
     "height": 528
    },
    "id": "eVFqw_xFkt61",
    "outputId": "bcdb196a-cf65-4144-8b35-0c4bad01dbc1"
   },
   "outputs": [
    {
     "name": "stderr",
     "output_type": "stream",
     "text": [
      "/usr/local/lib/python3.6/dist-packages/seaborn/distributions.py:2551: FutureWarning: `distplot` is a deprecated function and will be removed in a future version. Please adapt your code to use either `displot` (a figure-level function with similar flexibility) or `kdeplot` (an axes-level function for kernel density plots).\n",
      "  warnings.warn(msg, FutureWarning)\n",
      "/usr/local/lib/python3.6/dist-packages/seaborn/distributions.py:2551: FutureWarning: `distplot` is a deprecated function and will be removed in a future version. Please adapt your code to use either `displot` (a figure-level function with similar flexibility) or `kdeplot` (an axes-level function for kernel density plots).\n",
      "  warnings.warn(msg, FutureWarning)\n",
      "/usr/local/lib/python3.6/dist-packages/seaborn/distributions.py:2551: FutureWarning: `distplot` is a deprecated function and will be removed in a future version. Please adapt your code to use either `displot` (a figure-level function with similar flexibility) or `kdeplot` (an axes-level function for kernel density plots).\n",
      "  warnings.warn(msg, FutureWarning)\n",
      "/usr/local/lib/python3.6/dist-packages/seaborn/distributions.py:2551: FutureWarning: `distplot` is a deprecated function and will be removed in a future version. Please adapt your code to use either `displot` (a figure-level function with similar flexibility) or `kdeplot` (an axes-level function for kernel density plots).\n",
      "  warnings.warn(msg, FutureWarning)\n",
      "/usr/local/lib/python3.6/dist-packages/seaborn/distributions.py:2551: FutureWarning: `distplot` is a deprecated function and will be removed in a future version. Please adapt your code to use either `displot` (a figure-level function with similar flexibility) or `kdeplot` (an axes-level function for kernel density plots).\n",
      "  warnings.warn(msg, FutureWarning)\n",
      "/usr/local/lib/python3.6/dist-packages/seaborn/distributions.py:2551: FutureWarning: `distplot` is a deprecated function and will be removed in a future version. Please adapt your code to use either `displot` (a figure-level function with similar flexibility) or `kdeplot` (an axes-level function for kernel density plots).\n",
      "  warnings.warn(msg, FutureWarning)\n"
     ]
    },
    {
     "data": {
      "image/png": "[encoded data removed]",
      "text/plain": [
       "<Figure size 432x288 with 1 Axes>"
      ]
     },
     "metadata": {
      "needs_background": "light",
      "tags": []
     },
     "output_type": "display_data"
    }
   ],
   "source": [
    "for hour in range(0,24,4):\n",
    "  pm25_hour=df.loc[df['hour']==hour,'pm2.5'].tolist()\n",
    "  sns.distplot(pm25_hour, label = hour, hist=False, kde=True,  bins=int(100))\n",
    "plt.title(\"PM2.5 in 0-23\")\n",
    "plt.xlabel(\"PM2.5\")\n",
    "plt.ylabel(\"Density\")\n",
    "plt.legend()\n",
    "plt.show()"
   ]
  },
  {
   "cell_type": "code",
   "execution_count": 132,
   "metadata": {
    "id": "okE4_6cZeC0S"
   },
   "outputs": [],
   "source": [
    "pm25_at8 = df.loc[df['hour']==8,['month','pm2.5']]"
   ]
  },
  {
   "cell_type": "markdown",
   "metadata": {
    "id": "HYgsbhV17LQK"
   },
   "source": [
    "Let us now have some insights of the relationship between month and PM2.5. As we can see from the result given below, in some month starting from March to September, the average PM2.5 is lower than in the winter term.\n",
    "\n",
    "For generating a suitable input of models, we need to unite the input. We found that because of the missing value that we discarded before and the fact that some months have 30 days but others have 31 days, the total number of instances varies in different months. To simplify our input, we would like to use the first 125 instances at 8 o'clock for each month."
   ]
  },
  {
   "cell_type": "code",
   "execution_count": 133,
   "metadata": {
    "colab": {
     "base_uri": "https://localhost:8080/",
     "height": 742
    },
    "id": "A1jGRMiryKB5",
    "outputId": "8af12c8a-3cec-4622-ea11-2d0f24040430"
   },
   "outputs": [
    {
     "name": "stderr",
     "output_type": "stream",
     "text": [
      "/usr/local/lib/python3.6/dist-packages/seaborn/distributions.py:2551: FutureWarning: `distplot` is a deprecated function and will be removed in a future version. Please adapt your code to use either `displot` (a figure-level function with similar flexibility) or `kdeplot` (an axes-level function for kernel density plots).\n",
      "  warnings.warn(msg, FutureWarning)\n",
      "/usr/local/lib/python3.6/dist-packages/seaborn/distributions.py:2551: FutureWarning: `distplot` is a deprecated function and will be removed in a future version. Please adapt your code to use either `displot` (a figure-level function with similar flexibility) or `kdeplot` (an axes-level function for kernel density plots).\n",
      "  warnings.warn(msg, FutureWarning)\n",
      "/usr/local/lib/python3.6/dist-packages/seaborn/distributions.py:2551: FutureWarning: `distplot` is a deprecated function and will be removed in a future version. Please adapt your code to use either `displot` (a figure-level function with similar flexibility) or `kdeplot` (an axes-level function for kernel density plots).\n",
      "  warnings.warn(msg, FutureWarning)\n",
      "/usr/local/lib/python3.6/dist-packages/seaborn/distributions.py:2551: FutureWarning: `distplot` is a deprecated function and will be removed in a future version. Please adapt your code to use either `displot` (a figure-level function with similar flexibility) or `kdeplot` (an axes-level function for kernel density plots).\n",
      "  warnings.warn(msg, FutureWarning)\n",
      "/usr/local/lib/python3.6/dist-packages/seaborn/distributions.py:2551: FutureWarning: `distplot` is a deprecated function and will be removed in a future version. Please adapt your code to use either `displot` (a figure-level function with similar flexibility) or `kdeplot` (an axes-level function for kernel density plots).\n",
      "  warnings.warn(msg, FutureWarning)\n",
      "/usr/local/lib/python3.6/dist-packages/seaborn/distributions.py:2551: FutureWarning: `distplot` is a deprecated function and will be removed in a future version. Please adapt your code to use either `displot` (a figure-level function with similar flexibility) or `kdeplot` (an axes-level function for kernel density plots).\n",
      "  warnings.warn(msg, FutureWarning)\n",
      "/usr/local/lib/python3.6/dist-packages/seaborn/distributions.py:2551: FutureWarning: `distplot` is a deprecated function and will be removed in a future version. Please adapt your code to use either `displot` (a figure-level function with similar flexibility) or `kdeplot` (an axes-level function for kernel density plots).\n",
      "  warnings.warn(msg, FutureWarning)\n",
      "/usr/local/lib/python3.6/dist-packages/seaborn/distributions.py:2551: FutureWarning: `distplot` is a deprecated function and will be removed in a future version. Please adapt your code to use either `displot` (a figure-level function with similar flexibility) or `kdeplot` (an axes-level function for kernel density plots).\n",
      "  warnings.warn(msg, FutureWarning)\n",
      "/usr/local/lib/python3.6/dist-packages/seaborn/distributions.py:2551: FutureWarning: `distplot` is a deprecated function and will be removed in a future version. Please adapt your code to use either `displot` (a figure-level function with similar flexibility) or `kdeplot` (an axes-level function for kernel density plots).\n",
      "  warnings.warn(msg, FutureWarning)\n",
      "/usr/local/lib/python3.6/dist-packages/seaborn/distributions.py:2551: FutureWarning: `distplot` is a deprecated function and will be removed in a future version. Please adapt your code to use either `displot` (a figure-level function with similar flexibility) or `kdeplot` (an axes-level function for kernel density plots).\n",
      "  warnings.warn(msg, FutureWarning)\n",
      "/usr/local/lib/python3.6/dist-packages/seaborn/distributions.py:2551: FutureWarning: `distplot` is a deprecated function and will be removed in a future version. Please adapt your code to use either `displot` (a figure-level function with similar flexibility) or `kdeplot` (an axes-level function for kernel density plots).\n",
      "  warnings.warn(msg, FutureWarning)\n",
      "/usr/local/lib/python3.6/dist-packages/seaborn/distributions.py:2551: FutureWarning: `distplot` is a deprecated function and will be removed in a future version. Please adapt your code to use either `displot` (a figure-level function with similar flexibility) or `kdeplot` (an axes-level function for kernel density plots).\n",
      "  warnings.warn(msg, FutureWarning)\n"
     ]
    },
    {
     "data": {
      "image/png": "[encoded data removed]",
      "text/plain": [
       "<Figure size 432x288 with 1 Axes>"
      ]
     },
     "metadata": {
      "needs_background": "light",
      "tags": []
     },
     "output_type": "display_data"
    }
   ],
   "source": [
    "hour8=df.loc[df['hour']==8]\n",
    "for month in range(1,13):\n",
    "  newpm25_month=hour8.loc[df['month']==month,'pm2.5'].tolist()\n",
    "  sns.distplot(newpm25_month, label = month, hist=False, kde=True,  bins=int(100))\n",
    "plt.title(\"PM2.5 in 1-12 month\")\n",
    "plt.xlabel(\"PM2.5\")\n",
    "plt.ylabel(\"Density\")\n",
    "plt.legend()\n",
    "plt.show()\n"
   ]
  },
  {
   "cell_type": "code",
   "execution_count": 134,
   "metadata": {
    "colab": {
     "base_uri": "https://localhost:8080/"
    },
    "id": "qoappjZb4NH4",
    "outputId": "0e337553-86f3-4d7b-cd44-7fe02497518c"
   },
   "outputs": [
    {
     "name": "stdout",
     "output_type": "stream",
     "text": [
      "Average PM2.5 of month 1 is 115\n",
      "Average PM2.5 of month 2 is 125\n",
      "Average PM2.5 of month 3 is 97\n",
      "Average PM2.5 of month 4 is 83\n",
      "Average PM2.5 of month 5 is 80\n",
      "Average PM2.5 of month 6 is 96\n",
      "Average PM2.5 of month 7 is 94\n",
      "Average PM2.5 of month 8 is 79\n",
      "Average PM2.5 of month 9 is 85\n",
      "Average PM2.5 of month 10 is 120\n",
      "Average PM2.5 of month 11 is 105\n",
      "Average PM2.5 of month 12 is 98\n"
     ]
    }
   ],
   "source": [
    "avg_month = [];\n",
    "for month in range(1,13):\n",
    "  pm25 = df.loc[df['month']==month, 'pm2.5']\n",
    "  #pm25 = pm25.loc[df['hour']==8, 'pm2.5']\n",
    "  avg = np.mean(pm25)\n",
    "  print(\"Average PM2.5 of month %d is %d\" %(month, avg))\n",
    "  #print(\"len: %d\" %(len(pm25)))\n",
    "  avg_month.append(avg)\n"
   ]
  },
  {
   "cell_type": "code",
   "execution_count": 136,
   "metadata": {
    "id": "HJZ8IvFrexh8"
   },
   "outputs": [],
   "source": [
    "dfs = []\n",
    "for month in range(1, 13):\n",
    "  to_add = pm25_at8.loc[df['month']==month,'pm2.5']\n",
    "  to_add = to_add.head(125)\n",
    "  to_add = to_add.reset_index(drop=True)\n",
    "  dfs.append(to_add)\n",
    "  #input = pd.concat(to_add, axis=0, ignore_index=True)\n",
    "\n",
    "input = pd.concat(dfs, axis=1, ignore_index=True)\n",
    "input_transposed = input.transpose()\n",
    "input_value = input_transposed.values.flatten()\n",
    "#print(input_value)"
   ]
  },
  {
   "cell_type": "markdown",
   "metadata": {
    "id": "_34LsROjVzCc"
   },
   "source": [
    "## Utility Function"
   ]
  },
  {
   "cell_type": "markdown",
   "metadata": {
    "id": "WSjX2C1qV40l"
   },
   "source": [
    "Instead of only interested in the statistical aspect of the PM2.5, we would like to also create a utility function. After searching for the criteria of air quality, the air quality can be categorized into five level according to different PM2.5 value.\n",
    "\n",
    "Good: 0 ~ 35\n",
    "\n",
    "Acceptable: 35 ~ 75\n",
    "\n",
    "Little Air Pollution: 75 ~ 115\n",
    "\n",
    "Medium Air Pollution: 115 ~ 150\n",
    "\n",
    "Severe Air Pollution: 150 ~ 250\n",
    "\n",
    "Terrible Air Pollution: above 250\n"
   ]
  },
  {
   "cell_type": "code",
   "execution_count": 137,
   "metadata": {
    "id": "4ky4OAFh4DqN"
   },
   "outputs": [],
   "source": [
    "def utility(data):\n",
    "  sum = 0\n",
    "  for row in range(0, len(data)):\n",
    "    row_content = data.iloc[row]\n",
    "    if(row_content > 0.0 and row_content<35.0):\n",
    "      # good air quality!\n",
    "      sum +=10\n",
    "    elif (row_content >= 35.0 and row_content<75.0):\n",
    "      # acceptable air quality\n",
    "      sum +=1\n",
    "    elif (row_content >= 75.0 and row_content<115.0):\n",
    "      # little air pollution\n",
    "      sum -= 5\n",
    "    elif (row_content >= 115.0 and row_content<150.0):\n",
    "      # medium air pollution\n",
    "      sum -= 10\n",
    "    elif (row_content >= 150.0 and row_content<250.0):\n",
    "      # severe air pollution\n",
    "      sum -= 20\n",
    "    elif (row_content >= 250.0):\n",
    "      # terrible air pollution\n",
    "      sum -= 50\n",
    "  return sum/len(data)"
   ]
  },
  {
   "cell_type": "code",
   "execution_count": 138,
   "metadata": {
    "colab": {
     "base_uri": "https://localhost:8080/"
    },
    "id": "4cZhbizwD6vv",
    "outputId": "540ce008-e0b7-4681-d177-00fc4d5c6755"
   },
   "outputs": [
    {
     "name": "stdout",
     "output_type": "stream",
     "text": [
      "Air Quality of month 1 is -7.269951\n",
      "Air Quality of month 2 is -9.643048\n",
      "Air Quality of month 3 is -5.135546\n",
      "Air Quality of month 4 is -3.047283\n",
      "Air Quality of month 5 is -2.428096\n",
      "Air Quality of month 6 is -5.033774\n",
      "Air Quality of month 7 is -4.816287\n",
      "Air Quality of month 8 is -2.293078\n",
      "Air Quality of month 9 is -3.210321\n",
      "Air Quality of month 10 is -9.588991\n",
      "Air Quality of month 11 is -6.562125\n",
      "Air Quality of month 12 is -5.218865\n"
     ]
    }
   ],
   "source": [
    "month_utility = []\n",
    "for month in range(1,13):\n",
    "  pm25 = df.loc[df['month']==month, 'pm2.5']\n",
    "  monthly_utility = utility(pm25)\n",
    "  month_utility.append(monthly_utility)\n",
    "  print(\"Air Quality of month %d is %f\" %(month, monthly_utility))\n"
   ]
  },
  {
   "cell_type": "markdown",
   "metadata": {
    "id": "JJNDezma23uw"
   },
   "source": [
    "# Model Description"
   ]
  },
  {
   "cell_type": "markdown",
   "metadata": {
    "id": "sv9Lwp3v1bgM"
   },
   "source": [
    "In this project, we would like to use two models: separate model and hierarchical model. The reason why we do not use pooled model is that from our obeservation, assumption and interest we would like to find the relationship between different month and PM2.5. If we use the pooled model, which means all the month share the same parameter, this completely contrast our target.\n",
    "\n",
    "For both of these models, the weakly informative prior is used."
   ]
  },
  {
   "cell_type": "markdown",
   "metadata": {
    "id": "k8w5eB958KnP"
   },
   "source": [
    "Similarly, we chose normal distribution and chi-square distribution for hierarchical model.\n",
    "<br>\n",
    "The model will calculate two probabilities. First, it is the same as a separate model: how well the parameters represent the data, and secondly, how well a certain hyperparameter reflects all the parameters in different months. Therefore, the results will reflect observations on two levels:\n",
    "<br>\n",
    "1.   Level where observations are given the parameters: $p(y_ij|\\theta_j)$\n",
    "2.   Level where parameters are given the hyperparameters: $p(\\theta_j|\\tau)$\n",
    "\n",
    "The joint posterior:\n",
    "$$p(\\theta,\\tau|y) \\propto p(y|\\theta,\\tau)p(\\theta,\\tau) \\propto p(y|\\theta)p(\\theta|\\tau)p(\\tau)$$"
   ]
  },
  {
   "cell_type": "markdown",
   "metadata": {
    "id": "XTfu4kvh2_OV"
   },
   "source": [
    "## Separate Model\n"
   ]
  },
  {
   "cell_type": "code",
   "execution_count": 139,
   "metadata": {
    "id": "YxHKf5Lr295E"
   },
   "outputs": [],
   "source": [
    "separate = \"\"\"\n",
    "\n",
    "data {\n",
    "  int<lower=0> N; //number of instances for each monoth = 1500\n",
    "  int<lower=0> J; // = 12 months\n",
    "  int<lower=1, upper=J> x[N]; // groups indicator\n",
    "  vector[N] y;\n",
    "}\n",
    "\n",
    "parameters {\n",
    "  vector[J] mu;\n",
    "  vector<lower=0>[J] sigma;\n",
    "}\n",
    "\n",
    "model {\n",
    "  //priors\n",
    "  //mu[x] ~ normal (0 , 10000);\n",
    "\n",
    "  y ~ normal(mu[x],sigma[x]);\n",
    "}\n",
    "generated quantities {\n",
    "  vector[J] ypred;\n",
    "  vector[N] log_lik;\n",
    "  for (j in 1:J)\n",
    "    ypred[j] = normal_rng(mu[j], sigma[j]);\n",
    "  for (i in 1:N)\n",
    "    log_lik[i] = normal_lpdf(y[i] | mu[x[i]], sigma[x[i]]);\n",
    "}\n",
    "\n",
    "\"\"\""
   ]
  },
  {
   "cell_type": "code",
   "execution_count": 140,
   "metadata": {
    "id": "GJHgvzVZAYB_"
   },
   "outputs": [],
   "source": [
    "separate_test = \"\"\"\n",
    "\n",
    "data {\n",
    "  int<lower=0> N; //number of instances for each monoth = 1500\n",
    "  int<lower=0> J; // = 12 months\n",
    "  int<lower=1, upper=J> x[N]; // groups indicator\n",
    "  vector[N] y;\n",
    "}\n",
    "\n",
    "parameters {\n",
    "  vector<lower=0>[J] mu;\n",
    "  //vector<lower=0>[J] sigma;\n",
    "}\n",
    "\n",
    "model {\n",
    "  //priors\n",
    "  mu[x] ~ normal (3 , 1);\n",
    "\n",
    "  y ~  chi_square(mu[x]);\n",
    "}\n",
    "generated quantities {\n",
    "  vector[J] ypred;\n",
    "  vector[N] log_lik;\n",
    "  for (j in 1:J)\n",
    "    ypred[j] =  chi_square_rng(mu[j]);\n",
    "  for (i in 1:N)\n",
    "    log_lik[i] =  chi_square_lpdf(y[i] | mu[x[i]]);\n",
    "}\n",
    "\"\"\""
   ]
  },
  {
   "cell_type": "code",
   "execution_count": 141,
   "metadata": {
    "id": "x96_hBrThSCI"
   },
   "outputs": [],
   "source": [
    "separate_skewnorm = \"\"\"\n",
    "\n",
    "data {\n",
    "  int<lower=0> N; //number of instances for each monoth = 1500\n",
    "  int<lower=0> J; // = 12 months\n",
    "  int<lower=1, upper=J> x[N]; // groups indicator\n",
    "  vector[N] y;\n",
    "  \n",
    "  int mu_mu;\n",
    "  int mu_sigma;\n",
    "  int sigma_mu;\n",
    "  int sigma_sigma;\n",
    "  int alpha_mu;\n",
    "  int alpha_sigma;\n",
    "}\n",
    "\n",
    "parameters {\n",
    "  vector[J] mu;\n",
    "  vector<lower=0>[J] sigma;\n",
    "  real alpha;\n",
    "}\n",
    "\n",
    "model {\n",
    "  mu ~ normal(mu_mu, mu_sigma);\n",
    "  sigma ~ cauchy(sigma_mu, sigma_sigma);\n",
    "  alpha ~ normal(alpha_mu, alpha_sigma);\n",
    "  y ~ skew_normal(mu[x], sigma[x], alpha);\n",
    "}\n",
    "generated quantities {\n",
    "  vector[J] ypred;\n",
    "  vector[N] log_lik;\n",
    "  for (j in 1:J)\n",
    "    ypred[j] = skew_normal_rng(mu[j], sigma[j], alpha);\n",
    "  for (i in 1:N)\n",
    "    log_lik[i] = skew_normal_lpdf(y[i] | mu[x[i]], sigma[x[i]], alpha);\n",
    "}\n",
    "\n",
    "\"\"\""
   ]
  },
  {
   "cell_type": "code",
   "execution_count": 142,
   "metadata": {
    "colab": {
     "base_uri": "https://localhost:8080/"
    },
    "id": "JyxQ03ruSQAd",
    "outputId": "23f7c21f-4060-4e4b-aace-dcb2eeae507e"
   },
   "outputs": [
    {
     "name": "stderr",
     "output_type": "stream",
     "text": [
      "INFO:pystan:COMPILING THE C++ CODE FOR MODEL anon_model_31bf22a6a426a4b2c6676e3daac89851 NOW.\n"
     ]
    }
   ],
   "source": [
    "separate_model = pystan.StanModel(model_code=separate)"
   ]
  },
  {
   "cell_type": "code",
   "execution_count": null,
   "metadata": {
    "colab": {
     "base_uri": "https://localhost:8080/"
    },
    "id": "6Xha6l52CzoT",
    "outputId": "b4c3c97e-5ae7-4427-c23f-bfb1c353bc53"
   },
   "outputs": [
    {
     "name": "stderr",
     "output_type": "stream",
     "text": [
      "INFO:pystan:COMPILING THE C++ CODE FOR MODEL anon_model_84c7e97e77d76381df74347a4e8446d5 NOW.\n"
     ]
    }
   ],
   "source": [
    "test_model = pystan.StanModel(model_code=separate_test)"
   ]
  },
  {
   "cell_type": "code",
   "execution_count": null,
   "metadata": {
    "colab": {
     "base_uri": "https://localhost:8080/"
    },
    "id": "lyhZ6ptfhUnj",
    "outputId": "f302b9b1-454f-45ad-8620-283655c7999c"
   },
   "outputs": [
    {
     "name": "stderr",
     "output_type": "stream",
     "text": [
      "INFO:pystan:COMPILING THE C++ CODE FOR MODEL anon_model_abc09039e2ceb07d1503e43ab6d5b9c4 NOW.\n"
     ]
    }
   ],
   "source": [
    "separate_skewnorm_model = pystan.StanModel(model_code=separate_skewnorm)"
   ]
  },
  {
   "cell_type": "code",
   "execution_count": null,
   "metadata": {
    "id": "oHNBx6CSek5E"
   },
   "outputs": [],
   "source": [
    "x = [i+1 for i in range(0,12) for j in range(1,126)]\n",
    "separate_data = dict(\n",
    "    N = 1500,\n",
    "    J = 12,\n",
    "    x = x,\n",
    "    y = input_value\n",
    ")"
   ]
  },
  {
   "cell_type": "code",
   "execution_count": null,
   "metadata": {
    "id": "BNV5XYyGNVaU"
   },
   "outputs": [],
   "source": [
    "test_data = dict(\n",
    "    N = 1500,\n",
    "    J = 12,\n",
    "    x = x,\n",
    "    y = input_value/30\n",
    ")"
   ]
  },
  {
   "cell_type": "code",
   "execution_count": null,
   "metadata": {
    "id": "eq7oZZuChluf"
   },
   "outputs": [],
   "source": [
    "separate_skewnorm_data = dict(\n",
    "    N = 1500,\n",
    "    J = 12,\n",
    "    x = x,\n",
    "    y = input_value,\n",
    "    mu_mu = 20,\n",
    "    mu_sigma = 10000,\n",
    "    sigma_mu = 90,\n",
    "    sigma_sigma = 100,\n",
    "    alpha_mu = 8,\n",
    "    alpha_sigma = 1\n",
    ")"
   ]
  },
  {
   "cell_type": "code",
   "execution_count": 143,
   "metadata": {
    "id": "MPkdwRSkWD3R"
   },
   "outputs": [],
   "source": [
    "x = [i+1 for i in range(0,12) for j in range(1,126)]\n",
    "\n",
    "#print(x)"
   ]
  },
  {
   "cell_type": "code",
   "execution_count": 145,
   "metadata": {
    "colab": {
     "base_uri": "https://localhost:8080/"
    },
    "id": "7T5k9xfBVcou",
    "outputId": "0e199159-acd9-47bd-cf30-5857e4b59b08"
   },
   "outputs": [
    {
     "name": "stderr",
     "output_type": "stream",
     "text": [
      "WARNING:pystan:Maximum (flat) parameter count (1000) exceeded: skipping diagnostic tests for n_eff and Rhat.\n",
      "To run all diagnostics call pystan.check_hmc_diagnostics(fit)\n"
     ]
    }
   ],
   "source": [
    "fit_separate = separate_model.sampling(data=test_data, n_jobs=-1)\n",
    "#print(fit_separate)"
   ]
  },
  {
   "cell_type": "code",
   "execution_count": 144,
   "metadata": {
    "colab": {
     "base_uri": "https://localhost:8080/"
    },
    "id": "QkkFHhx7C-he",
    "outputId": "bf56554b-70c9-4184-caca-2432808ff3e1"
   },
   "outputs": [
    {
     "name": "stderr",
     "output_type": "stream",
     "text": [
      "WARNING:pystan:Maximum (flat) parameter count (1000) exceeded: skipping diagnostic tests for n_eff and Rhat.\n",
      "To run all diagnostics call pystan.check_hmc_diagnostics(fit)\n"
     ]
    }
   ],
   "source": [
    "fit_test = test_model.sampling(data=test_data)\n",
    "#print(fit_test)"
   ]
  },
  {
   "cell_type": "code",
   "execution_count": 146,
   "metadata": {
    "colab": {
     "base_uri": "https://localhost:8080/"
    },
    "id": "o2mb07dKhrha",
    "outputId": "6e86fba5-4221-48a6-ceeb-706301517b49"
   },
   "outputs": [
    {
     "name": "stderr",
     "output_type": "stream",
     "text": [
      "WARNING:pystan:Maximum (flat) parameter count (1000) exceeded: skipping diagnostic tests for n_eff and Rhat.\n",
      "To run all diagnostics call pystan.check_hmc_diagnostics(fit)\n"
     ]
    }
   ],
   "source": [
    "fit_skewnorm = separate_skewnorm_model.sampling(data=separate_skewnorm_data)\n",
    "#print(fit_skewnorm)"
   ]
  },
  {
   "cell_type": "markdown",
   "metadata": {
    "id": "L0E48oj92ZhF"
   },
   "source": [
    "## Hierarchical Model"
   ]
  },
  {
   "cell_type": "code",
   "execution_count": null,
   "metadata": {
    "id": "x7redJf6J_aP"
   },
   "outputs": [],
   "source": [
    "hierarchical = '''\n",
    "data {\n",
    "  int<lower=0> N; //number of instances for each monoth = 1500\n",
    "  int<lower=0> J; // = 12 months\n",
    "  int<lower=1, upper=J> x[N]; // groups indicator\n",
    "  vector[N] y;\n",
    "}\n",
    "parameters {\n",
    "  real mu0;             // prior mean\n",
    "  real<lower=0> sigma0;       // prior std\n",
    "  vector[J] mu;           // means for each month\n",
    "  real<lower=0> sigma;       // common std\n",
    "}\n",
    "model {\n",
    "    mu ~ normal(mu0, sigma0);\n",
    "    y ~ normal(mu[x], sigma);\n",
    "}\n",
    "generated quantities {\n",
    "  vector[J] ypred;\n",
    "  vector[N] log_lik;\n",
    "  for (j in 1:J)\n",
    "    ypred[j] = normal_rng(mu[j], sigma);\n",
    "  for (i in 1:N)\n",
    "    log_lik[i] = normal_lpdf(y[i] | mu[x[i]], sigma);\n",
    "}\n",
    "'''"
   ]
  },
  {
   "cell_type": "code",
   "execution_count": null,
   "metadata": {
    "id": "96B8tMJRgK9O"
   },
   "outputs": [],
   "source": [
    "hierarchical_chi2 = '''\n",
    "data {\n",
    "  int<lower=0> N; //number of instances for each monoth = 1500\n",
    "  int<lower=0> J; // = 12 months\n",
    "  int<lower=1, upper=J> x[N]; // groups indicator\n",
    "  vector[N] y;\n",
    "}\n",
    "parameters {\n",
    "  real mu0;             // prior mean\n",
    "  real<lower=0> sigma0;       // prior std\n",
    "  vector<lower=0, upper = 10>[J] mu;           // means for each month\n",
    "}\n",
    "model {\n",
    "    mu ~ normal(mu0, sigma0);\n",
    "    y ~ chi_square(mu[x]);\n",
    "}\n",
    "generated quantities {\n",
    "  vector[J] ypred;\n",
    "  vector[N] log_lik;\n",
    "  for (j in 1:J)\n",
    "    ypred[j] = chi_square_rng(mu[j]);\n",
    "  for (i in 1:N)\n",
    "    log_lik[i] = chi_square_lpdf(y[i] | mu[x[i]]);\n",
    "}\n",
    "'''"
   ]
  },
  {
   "cell_type": "code",
   "execution_count": null,
   "metadata": {
    "colab": {
     "base_uri": "https://localhost:8080/"
    },
    "id": "0cf7MZdYURco",
    "outputId": "76a91f9e-deab-4647-d1cc-3cb5e3b680d5"
   },
   "outputs": [
    {
     "name": "stderr",
     "output_type": "stream",
     "text": [
      "INFO:pystan:COMPILING THE C++ CODE FOR MODEL anon_model_e7fd3b266998367552d1ed85ea707ec7 NOW.\n"
     ]
    }
   ],
   "source": [
    "h_chi2_model = pystan.StanModel(model_code=hierarchical_chi2)"
   ]
  },
  {
   "cell_type": "code",
   "execution_count": null,
   "metadata": {
    "colab": {
     "base_uri": "https://localhost:8080/"
    },
    "id": "rCWsxscThPHj",
    "outputId": "0d27c617-605b-4ed6-c914-87032efe25e3"
   },
   "outputs": [
    {
     "name": "stderr",
     "output_type": "stream",
     "text": [
      "INFO:pystan:COMPILING THE C++ CODE FOR MODEL anon_model_5fe1fe178208c650f13907ee9991d44d NOW.\n"
     ]
    }
   ],
   "source": [
    "h_model = pystan.StanModel(model_code=hierarchical)"
   ]
  },
  {
   "cell_type": "code",
   "execution_count": null,
   "metadata": {
    "id": "hKO_ZDxfhBWS"
   },
   "outputs": [],
   "source": [
    "#the same input for both models\n",
    "h_data = test_data "
   ]
  },
  {
   "cell_type": "code",
   "execution_count": 147,
   "metadata": {
    "colab": {
     "base_uri": "https://localhost:8080/"
    },
    "id": "mZXliZcmhLya",
    "outputId": "a9a97b24-ebf7-4af2-a9ac-80f09ee6a04e"
   },
   "outputs": [
    {
     "name": "stderr",
     "output_type": "stream",
     "text": [
      "WARNING:pystan:Maximum (flat) parameter count (1000) exceeded: skipping diagnostic tests for n_eff and Rhat.\n",
      "To run all diagnostics call pystan.check_hmc_diagnostics(fit)\n",
      "WARNING:pystan:16 of 4000 iterations ended with a divergence (0.4 %).\n",
      "WARNING:pystan:Try running with adapt_delta larger than 0.8 to remove the divergences.\n",
      "WARNING:pystan:Chain 3: E-BFMI = 0.195\n",
      "WARNING:pystan:E-BFMI below 0.2 indicates you may need to reparameterize your model\n"
     ]
    }
   ],
   "source": [
    "fit_h = h_model.sampling(data=h_data, n_jobs=-1)\n",
    "#print(fit_h)"
   ]
  },
  {
   "cell_type": "code",
   "execution_count": 148,
   "metadata": {
    "colab": {
     "base_uri": "https://localhost:8080/"
    },
    "id": "un7AXhypWUOa",
    "outputId": "db557761-860e-4259-adbf-63a7ebcd03ed"
   },
   "outputs": [
    {
     "name": "stderr",
     "output_type": "stream",
     "text": [
      "WARNING:pystan:Maximum (flat) parameter count (1000) exceeded: skipping diagnostic tests for n_eff and Rhat.\n",
      "To run all diagnostics call pystan.check_hmc_diagnostics(fit)\n",
      "WARNING:pystan:1 of 4000 iterations ended with a divergence (0.025 %).\n",
      "WARNING:pystan:Try running with adapt_delta larger than 0.8 to remove the divergences.\n"
     ]
    }
   ],
   "source": [
    "fit_h_chi2 = h_chi2_model.sampling(data=h_data, n_jobs=-1)\n",
    "#print(fit_h_chi2)"
   ]
  },
  {
   "cell_type": "markdown",
   "metadata": {
    "id": "Jukxj5tsiR3x"
   },
   "source": [
    "## Diagnostics"
   ]
  },
  {
   "cell_type": "markdown",
   "metadata": {
    "id": "5JfK5W-Sj44b"
   },
   "source": [
    "One important thing before model selection is to examine if the model converge or not. We use the given function [check_hmu_diagnostics](https://mc-stan.org/rstan/reference/check_hmc_diagnostics.html) in Stan to print out a summary of Hamiltonian Monte Carlo Diagnostics.\n",
    "\n",
    "From the code below, we found that all of our model except hierachical model using normal distribution converge. "
   ]
  },
  {
   "cell_type": "code",
   "execution_count": null,
   "metadata": {
    "colab": {
     "base_uri": "https://localhost:8080/"
    },
    "id": "DsvZKYVyEl28",
    "outputId": "d3bfca77-01d4-4c1e-9ffd-8fc6b6081fca"
   },
   "outputs": [
    {
     "name": "stdout",
     "output_type": "stream",
     "text": [
      "test model:\n",
      "{'n_eff': True, 'Rhat': True, 'divergence': True, 'treedepth': True, 'energy': True}\n"
     ]
    }
   ],
   "source": [
    "print(\"separate model with chi_squared:\")\n",
    "print(pystan.check_hmc_diagnostics(fit_test))"
   ]
  },
  {
   "cell_type": "code",
   "execution_count": null,
   "metadata": {
    "colab": {
     "base_uri": "https://localhost:8080/"
    },
    "id": "CeLCGdb1iUYB",
    "outputId": "ef416392-45fa-41f9-ca40-c73d0e56577e"
   },
   "outputs": [
    {
     "name": "stdout",
     "output_type": "stream",
     "text": [
      "separate model:\n",
      "{'n_eff': True, 'Rhat': True, 'divergence': True, 'treedepth': True, 'energy': True}\n"
     ]
    }
   ],
   "source": [
    "print(\"separate model with normal:\")\n",
    "print(pystan.check_hmc_diagnostics(fit_separate))"
   ]
  },
  {
   "cell_type": "code",
   "execution_count": null,
   "metadata": {
    "colab": {
     "base_uri": "https://localhost:8080/"
    },
    "id": "r0yORX9ehzyu",
    "outputId": "8585b7fe-a305-4a8d-ba73-282dbfc02536"
   },
   "outputs": [
    {
     "name": "stdout",
     "output_type": "stream",
     "text": [
      "separate model with skew normal:\n",
      "{'n_eff': True, 'Rhat': True, 'divergence': True, 'treedepth': True, 'energy': True}\n"
     ]
    }
   ],
   "source": [
    "print(\"separate model with skew normal:\")\n",
    "print(pystan.check_hmc_diagnostics(fit_skewnorm))"
   ]
  },
  {
   "cell_type": "code",
   "execution_count": null,
   "metadata": {
    "colab": {
     "base_uri": "https://localhost:8080/"
    },
    "id": "wH6UrWBGWyl5",
    "outputId": "347b462f-9e37-4bf8-f3c5-da4add361c20"
   },
   "outputs": [
    {
     "name": "stdout",
     "output_type": "stream",
     "text": [
      "hierarchical model:\n"
     ]
    },
    {
     "name": "stderr",
     "output_type": "stream",
     "text": [
      "WARNING:pystan:75 of 4000 iterations ended with a divergence (1.88 %).\n",
      "WARNING:pystan:Try running with adapt_delta larger than 0.8 to remove the divergences.\n"
     ]
    },
    {
     "name": "stdout",
     "output_type": "stream",
     "text": [
      "{'n_eff': True, 'Rhat': True, 'divergence': False, 'treedepth': True, 'energy': True}\n"
     ]
    }
   ],
   "source": [
    "print(\"hierarchical model with normal:\")\n",
    "print(pystan.check_hmc_diagnostics(fit_h))"
   ]
  },
  {
   "cell_type": "code",
   "execution_count": null,
   "metadata": {
    "colab": {
     "base_uri": "https://localhost:8080/"
    },
    "id": "bIQ9aA9kW4ig",
    "outputId": "7c0673bb-c5eb-4825-dddf-9172b73dd9c5"
   },
   "outputs": [
    {
     "name": "stdout",
     "output_type": "stream",
     "text": [
      "hierarchical Chi Squared model:\n",
      "{'n_eff': True, 'Rhat': True, 'divergence': True, 'treedepth': True, 'energy': True}\n"
     ]
    }
   ],
   "source": [
    "print(\"hierarchical Chi Squared model:\")\n",
    "print(pystan.check_hmc_diagnostics(fit_h_chi2))"
   ]
  },
  {
   "cell_type": "markdown",
   "metadata": {
    "id": "PjLzDbCn2NdF"
   },
   "source": [
    "# Model Selection"
   ]
  },
  {
   "cell_type": "markdown",
   "metadata": {
    "id": "FcCf0EmCaKvm"
   },
   "source": [
    "In the model selection part, we would like to measure the Expected Logarithm Predictive Density (ELPD) Leave One Out (LOO) and use it as a criteria. We will compare the ELPD LOO of different models and select the best one."
   ]
  },
  {
   "cell_type": "markdown",
   "metadata": {
    "id": "bADqSuWjaQb-"
   },
   "source": [
    "### Arviz\n",
    "We would install Arviz, a package exploratory analysis of Bayesian models and use its function to calculate the ELPD_LOO."
   ]
  },
  {
   "cell_type": "code",
   "execution_count": null,
   "metadata": {
    "colab": {
     "base_uri": "https://localhost:8080/"
    },
    "id": "DvCuA_hijrUv",
    "outputId": "002f2975-2a7f-48c1-bf31-a84c7eaf3a44"
   },
   "outputs": [
    {
     "name": "stdout",
     "output_type": "stream",
     "text": [
      "Requirement already satisfied: arviz in /usr/local/lib/python3.6/dist-packages (0.10.0)\n",
      "Requirement already satisfied: scipy>=0.19 in /usr/local/lib/python3.6/dist-packages (from arviz) (1.4.1)\n",
      "Requirement already satisfied: setuptools>=38.4 in /usr/local/lib/python3.6/dist-packages (from arviz) (50.3.2)\n",
      "Requirement already satisfied: xarray>=0.16.1 in /usr/local/lib/python3.6/dist-packages (from arviz) (0.16.2)\n",
      "Requirement already satisfied: matplotlib>=3.0 in /usr/local/lib/python3.6/dist-packages (from arviz) (3.2.2)\n",
      "Requirement already satisfied: numpy>=1.12 in /usr/local/lib/python3.6/dist-packages (from arviz) (1.18.5)\n",
      "Requirement already satisfied: pandas>=0.23 in /usr/local/lib/python3.6/dist-packages (from arviz) (1.1.4)\n",
      "Requirement already satisfied: packaging in /usr/local/lib/python3.6/dist-packages (from arviz) (20.4)\n",
      "Requirement already satisfied: netcdf4 in /usr/local/lib/python3.6/dist-packages (from arviz) (1.5.4)\n",
      "Requirement already satisfied: python-dateutil>=2.1 in /usr/local/lib/python3.6/dist-packages (from matplotlib>=3.0->arviz) (2.8.1)\n",
      "Requirement already satisfied: kiwisolver>=1.0.1 in /usr/local/lib/python3.6/dist-packages (from matplotlib>=3.0->arviz) (1.3.1)\n",
      "Requirement already satisfied: pyparsing!=2.0.4,!=2.1.2,!=2.1.6,>=2.0.1 in /usr/local/lib/python3.6/dist-packages (from matplotlib>=3.0->arviz) (2.4.7)\n",
      "Requirement already satisfied: cycler>=0.10 in /usr/local/lib/python3.6/dist-packages (from matplotlib>=3.0->arviz) (0.10.0)\n",
      "Requirement already satisfied: pytz>=2017.2 in /usr/local/lib/python3.6/dist-packages (from pandas>=0.23->arviz) (2018.9)\n",
      "Requirement already satisfied: six in /usr/local/lib/python3.6/dist-packages (from packaging->arviz) (1.15.0)\n",
      "Requirement already satisfied: cftime in /usr/local/lib/python3.6/dist-packages (from netcdf4->arviz) (1.3.0)\n"
     ]
    }
   ],
   "source": [
    "!pip install arviz"
   ]
  },
  {
   "cell_type": "markdown",
   "metadata": {
    "id": "yLzN9U91oSPC"
   },
   "source": [
    "For each model, we would firstly need to check the Pareto K value to see if the LOO result is reliable or not. \n",
    "\n",
    "We found that each of separate models has one Pareto K whose value is above 0.5 but 0.7. This is still acceptable. For the hierarchical model, of course we would use the divergent one, so we only check the Pareto key of hierarchical model using Chi Square. And the result shows its PSIS-LOO is reliable.\n",
    "\n",
    "We need to then compare the EPLD-LOO of these models. We can compare it manually or use the loo_compare function, which would choose the best one (the one with highest ELPD-LOO) and give us a clear result.\n",
    "\n",
    "For have a better understanding, we print all the result separately below.\n",
    "The result shows that the Hierarchical model with chi square has best performance. So we would choose it as our model and check if it is sensitive to prior selection.\n"
   ]
  },
  {
   "cell_type": "code",
   "execution_count": null,
   "metadata": {
    "colab": {
     "base_uri": "https://localhost:8080/"
    },
    "id": "YxldVWE2EuoI",
    "outputId": "f169d55c-3214-4642-ed6b-ab1ca647aeef"
   },
   "outputs": [
    {
     "data": {
      "text/plain": [
       "Computed from 4000 by 1500 log-likelihood matrix\n",
       "\n",
       "         Estimate       SE\n",
       "elpd_loo -3584.78    35.83\n",
       "p_loo       29.94        -\n",
       "------\n",
       "\n",
       "Pareto k diagnostic values:\n",
       "                         Count   Pct.\n",
       "(-Inf, 0.5]   (good)     1499   99.9%\n",
       " (0.5, 0.7]   (ok)          1    0.1%\n",
       "   (0.7, 1]   (bad)         0    0.0%\n",
       "   (1, Inf)   (very bad)    0    0.0%"
      ]
     },
     "execution_count": 93,
     "metadata": {
      "tags": []
     },
     "output_type": "execute_result"
    }
   ],
   "source": [
    "import arviz as az\n",
    "sp_chi2_inference = az.from_pystan(\n",
    "  posterior=fit_test,\n",
    "  observed_data=['y'],\n",
    "  log_likelihood='log_lik'\n",
    ")\n",
    "\n",
    "test = az.loo(separate_inference_data, pointwise=True, scale=\"log\")\n",
    "test"
   ]
  },
  {
   "cell_type": "code",
   "execution_count": null,
   "metadata": {
    "colab": {
     "base_uri": "https://localhost:8080/"
    },
    "id": "58Fklm2TjLdC",
    "outputId": "4bd7209b-a6fc-4414-9755-b103c65f4dc5"
   },
   "outputs": [
    {
     "data": {
      "text/plain": [
       "Computed from 4000 by 1500 log-likelihood matrix\n",
       "\n",
       "         Estimate       SE\n",
       "elpd_loo -3584.78    35.83\n",
       "p_loo       29.94        -\n",
       "------\n",
       "\n",
       "Pareto k diagnostic values:\n",
       "                         Count   Pct.\n",
       "(-Inf, 0.5]   (good)     1499   99.9%\n",
       " (0.5, 0.7]   (ok)          1    0.1%\n",
       "   (0.7, 1]   (bad)         0    0.0%\n",
       "   (1, Inf)   (very bad)    0    0.0%"
      ]
     },
     "execution_count": 92,
     "metadata": {
      "tags": []
     },
     "output_type": "execute_result"
    }
   ],
   "source": [
    "sp_normal_inference = az.from_pystan(\n",
    "  posterior=fit_separate,\n",
    "  observed_data=['y'],\n",
    "  log_likelihood='log_lik'\n",
    ")\n",
    "\n",
    "s = az.loo(sp_normal_inference, pointwise=True, scale=\"log\")\n",
    "s"
   ]
  },
  {
   "cell_type": "code",
   "execution_count": null,
   "metadata": {
    "colab": {
     "base_uri": "https://localhost:8080/"
    },
    "id": "yO5h-qmeitMh",
    "outputId": "7151e3d7-d27c-4b16-bb9a-8aeac5ccf958"
   },
   "outputs": [
    {
     "data": {
      "text/plain": [
       "Computed from 4000 by 1500 log-likelihood matrix\n",
       "\n",
       "         Estimate       SE\n",
       "elpd_loo -3584.78    35.83\n",
       "p_loo       29.94        -\n",
       "------\n",
       "\n",
       "Pareto k diagnostic values:\n",
       "                         Count   Pct.\n",
       "(-Inf, 0.5]   (good)     1499   99.9%\n",
       " (0.5, 0.7]   (ok)          1    0.1%\n",
       "   (0.7, 1]   (bad)         0    0.0%\n",
       "   (1, Inf)   (very bad)    0    0.0%"
      ]
     },
     "execution_count": 94,
     "metadata": {
      "tags": []
     },
     "output_type": "execute_result"
    }
   ],
   "source": [
    "sp_skew_normal_inference = az.from_pystan(\n",
    "  posterior=fit_separate,\n",
    "  observed_data=['y'],\n",
    "  log_likelihood='log_lik'\n",
    ")\n",
    "\n",
    "sp_skew_normal = az.loo(sp_skew_normal_inference, pointwise=True, scale=\"log\")\n",
    "sp_skew_normal"
   ]
  },
  {
   "cell_type": "code",
   "execution_count": null,
   "metadata": {
    "colab": {
     "base_uri": "https://localhost:8080/"
    },
    "id": "G0_ewmk-raaA",
    "outputId": "500b221b-09bf-427f-e780-3daa94b9cdd9"
   },
   "outputs": [
    {
     "data": {
      "text/plain": [
       "Computed from 4000 by 1500 log-likelihood matrix\n",
       "\n",
       "         Estimate       SE\n",
       "elpd_loo -3620.09    41.05\n",
       "p_loo        6.67        -\n",
       "------\n",
       "\n",
       "Pareto k diagnostic values:\n",
       "                         Count   Pct.\n",
       "(-Inf, 0.5]   (good)     1500  100.0%\n",
       " (0.5, 0.7]   (ok)          0    0.0%\n",
       "   (0.7, 1]   (bad)         0    0.0%\n",
       "   (1, Inf)   (very bad)    0    0.0%"
      ]
     },
     "execution_count": 81,
     "metadata": {
      "tags": []
     },
     "output_type": "execute_result"
    }
   ],
   "source": [
    "h_inference_data = az.from_pystan(\n",
    "  posterior=fit_h,\n",
    "  observed_data=['y'],\n",
    "  log_likelihood='log_lik'\n",
    ")\n",
    "\n",
    "h = az.loo(h_inference_data, pointwise=True, scale=\"log\")\n",
    "h"
   ]
  },
  {
   "cell_type": "code",
   "execution_count": 113,
   "metadata": {
    "colab": {
     "base_uri": "https://localhost:8080/",
     "height": 0
    },
    "id": "P4Rm9-3uf8Fl",
    "outputId": "358a7da1-2454-453c-814b-0682f47074f8"
   },
   "outputs": [
    {
     "data": {
      "text/plain": [
       "Computed from 4000 by 1500 log-likelihood matrix\n",
       "\n",
       "         Estimate       SE\n",
       "elpd_loo -3183.67    37.17\n",
       "p_loo        9.94        -\n",
       "------\n",
       "\n",
       "Pareto k diagnostic values:\n",
       "                         Count   Pct.\n",
       "(-Inf, 0.5]   (good)     1500  100.0%\n",
       " (0.5, 0.7]   (ok)          0    0.0%\n",
       "   (0.7, 1]   (bad)         0    0.0%\n",
       "   (1, Inf)   (very bad)    0    0.0%"
      ]
     },
     "execution_count": 113,
     "metadata": {
      "tags": []
     },
     "output_type": "execute_result"
    }
   ],
   "source": [
    "h_chi2_inference = az.from_pystan(\n",
    "  posterior=fit_h_chi2,\n",
    "  observed_data=['y'],\n",
    "  log_likelihood='log_lik'\n",
    ")\n",
    "\n",
    "h_chi2 = az.loo(h_chi2_inference, pointwise=True, scale=\"log\")\n",
    "h_chi2"
   ]
  },
  {
   "cell_type": "markdown",
   "metadata": {
    "id": "vQJOPVDMrV3E"
   },
   "source": [
    "## Sensitivity analysis with respect to prior choices"
   ]
  },
  {
   "cell_type": "markdown",
   "metadata": {
    "id": "n7u9GPHNzR80"
   },
   "source": [
    "In this part, we choose a new prior for our selected model: Hierarchical model using chi squared function. \n",
    "\n",
    "In this new prior, we use a very specific piror of the hyper parameter. \n",
    "But we will not test a vague prior because we give a bound to the freedom degree of the chi square, i.e. it should be greater than 0 and smaller than 10.\n",
    "\n",
    "The result shows that, our model is robust to this new prior."
   ]
  },
  {
   "cell_type": "code",
   "execution_count": 105,
   "metadata": {
    "id": "IMYzylceyOhX"
   },
   "outputs": [],
   "source": [
    "hierarchical_chi2_newprior = \"\"\"\n",
    "data {\n",
    "  int<lower=0> N; //number of instances for each monoth = 1500\n",
    "  int<lower=0> J; // = 12 months\n",
    "  int<lower=1, upper=J> x[N]; // groups indicator\n",
    "  vector[N] y;\n",
    "}\n",
    "parameters {\n",
    "  real mu0;             // prior mean\n",
    "  real<lower=0> sigma0;       // prior std\n",
    "  vector<lower=0, upper = 10>[J] mu;           // means for each month\n",
    "}\n",
    "model {\n",
    "    mu0 ~ normal(3.5,0.01);\n",
    "    sigma0 ~ normal(1,1);\n",
    "    mu ~ normal(mu0, sigma0);\n",
    "    y ~ chi_square(mu[x]);\n",
    "}\n",
    "generated quantities {\n",
    "  vector[J] ypred;\n",
    "  vector[N] log_lik;\n",
    "  for (j in 1:J)\n",
    "    ypred[j] = chi_square_rng(mu[j]);\n",
    "  for (i in 1:N)\n",
    "    log_lik[i] = chi_square_lpdf(y[i] | mu[x[i]]);\n",
    "}\n",
    "\"\"\"\n"
   ]
  },
  {
   "cell_type": "code",
   "execution_count": 107,
   "metadata": {
    "colab": {
     "base_uri": "https://localhost:8080/",
     "height": 0
    },
    "id": "uUa85DZiyQiE",
    "outputId": "83b6818c-cc5e-41d3-bb7c-ee3735661562"
   },
   "outputs": [
    {
     "name": "stderr",
     "output_type": "stream",
     "text": [
      "INFO:pystan:COMPILING THE C++ CODE FOR MODEL anon_model_1713cb7390dd6fb18df59b1010de5188 NOW.\n"
     ]
    }
   ],
   "source": [
    "h_chi2_newprior_model = pystan.StanModel(model_code=hierarchical_chi2_newprior)"
   ]
  },
  {
   "cell_type": "code",
   "execution_count": 109,
   "metadata": {
    "id": "3NPe6DkBycFD"
   },
   "outputs": [],
   "source": [
    "h_newprior_data = dict(\n",
    "    N = 1500,\n",
    "    J = 12,\n",
    "    x = x,\n",
    "    y = input_value/30\n",
    ")"
   ]
  },
  {
   "cell_type": "code",
   "execution_count": 149,
   "metadata": {
    "colab": {
     "base_uri": "https://localhost:8080/"
    },
    "id": "UxAykiOqyyna",
    "outputId": "a7163932-4917-47f5-ea9d-c816d59ff935"
   },
   "outputs": [
    {
     "name": "stderr",
     "output_type": "stream",
     "text": [
      "WARNING:pystan:Maximum (flat) parameter count (1000) exceeded: skipping diagnostic tests for n_eff and Rhat.\n",
      "To run all diagnostics call pystan.check_hmc_diagnostics(fit)\n"
     ]
    }
   ],
   "source": [
    "fit_h_newprior_chi2 = h_chi2_newprior_model.sampling(data=h_newprior_data, n_jobs=-1)\n",
    "#print(fit_h_newprior_chi2)"
   ]
  },
  {
   "cell_type": "code",
   "execution_count": 111,
   "metadata": {
    "colab": {
     "base_uri": "https://localhost:8080/",
     "height": 0
    },
    "id": "XuZsyFxzzNch",
    "outputId": "9e81d6a4-0f9a-428c-89b4-f31bd3159f43"
   },
   "outputs": [
    {
     "name": "stdout",
     "output_type": "stream",
     "text": [
      "hierarchical new prior Chi Squared model:\n",
      "{'n_eff': True, 'Rhat': True, 'divergence': True, 'treedepth': True, 'energy': True}\n"
     ]
    }
   ],
   "source": [
    "print(\"hierarchical new prior Chi Squared model:\")\n",
    "print(pystan.check_hmc_diagnostics(fit_h_newprior_chi2))"
   ]
  },
  {
   "cell_type": "code",
   "execution_count": 115,
   "metadata": {
    "colab": {
     "base_uri": "https://localhost:8080/",
     "height": 0
    },
    "id": "h9L2ntup2G2w",
    "outputId": "6c805b3f-36c4-4b48-e892-812d15553d98"
   },
   "outputs": [
    {
     "data": {
      "text/plain": [
       "Computed from 4000 by 1500 log-likelihood matrix\n",
       "\n",
       "         Estimate       SE\n",
       "elpd_loo -3183.67    37.17\n",
       "p_loo        9.94        -\n",
       "------\n",
       "\n",
       "Pareto k diagnostic values:\n",
       "                         Count   Pct.\n",
       "(-Inf, 0.5]   (good)     1500  100.0%\n",
       " (0.5, 0.7]   (ok)          0    0.0%\n",
       "   (0.7, 1]   (bad)         0    0.0%\n",
       "   (1, Inf)   (very bad)    0    0.0%"
      ]
     },
     "execution_count": 115,
     "metadata": {
      "tags": []
     },
     "output_type": "execute_result"
    }
   ],
   "source": [
    "h_newprior_chi2_inference = az.from_pystan(\n",
    "  posterior=fit_h_newprior_chi2,\n",
    "  observed_data=['y'],\n",
    "  log_likelihood='log_lik'\n",
    ")\n",
    "\n",
    "h_newprior_chi2 = az.loo(h_chi2_inference, pointwise=True, scale=\"log\")\n",
    "h_newprior_chi2"
   ]
  },
  {
   "cell_type": "markdown",
   "metadata": {
    "id": "36S9HBi-2RS8"
   },
   "source": [
    "# Conclusion\n",
    "In conclusion, this project firstly have a look into the dataset with some visualisation method. Then we found that, the PM2.5 in Beijing may have some potential relationship with PM2.5 value, which arouse our intereste. \n",
    "\n",
    "We then use two kind of models, the separate model and hierarchical model. For separate model, three distribution is used: normal distribution, chi squared distribution and skew normal distribution. The prior are chosed accordingly. For hierarchical model, we use normal distribution and chi-squared distribution. \n",
    "\n",
    "The result shows that the hierachical model with chi-squared distribution has best performance. We also analyze the prior selection for this model and it is robust to new selected prior.\n",
    "\n",
    "For potential improvement and further research, other distribution should be tested. Moreover, in the model, we also created prediction and provide the utility function. The utility function can also be appled to the prediction from the model on which some practical suggestions can be given. Since our dataset ends at 2014, it is not meaningful anymore to do predictions for 2015. If some latest dataset could be found, the prediction of PM2.5 and suggestions beforehand on also be a great help for our environment."
   ]
  }
 ],
 "metadata": {
  "colab": {
   "collapsed_sections": [],
   "name": "BDA3.ipynb",
   "provenance": [],
   "toc_visible": true
  },
  "kernelspec": {
   "display_name": "Python 3",
   "language": "python",
   "name": "python3"
  },
  "language_info": {
   "codemirror_mode": {
    "name": "ipython",
    "version": 3
   },
   "file_extension": ".py",
   "mimetype": "text/x-python",
   "name": "python",
   "nbconvert_exporter": "python",
   "pygments_lexer": "ipython3",
   "version": "3.7.4"
  },
  "latex_envs": {
   "LaTeX_envs_menu_present": true,
   "autoclose": false,
   "autocomplete": true,
   "bibliofile": "biblio.bib",
   "cite_by": "apalike",
   "current_citInitial": 1,
   "eqLabelWithNumbers": true,
   "eqNumInitial": 1,
   "hotkeys": {
    "equation": "Ctrl-E",
    "itemize": "Ctrl-I"
   },
   "labels_anchors": false,
   "latex_user_defs": false,
   "report_style_numbering": false,
   "user_envs_cfg": false
  },
  "toc": {
   "base_numbering": 1,
   "nav_menu": {},
   "number_sections": true,
   "sideBar": true,
   "skip_h1_title": false,
   "title_cell": "Table of Contents",
   "title_sidebar": "Contents",
   "toc_cell": false,
   "toc_position": {},
   "toc_section_display": true,
   "toc_window_display": false
  }
 },
 "nbformat": 4,
 "nbformat_minor": 1
}
